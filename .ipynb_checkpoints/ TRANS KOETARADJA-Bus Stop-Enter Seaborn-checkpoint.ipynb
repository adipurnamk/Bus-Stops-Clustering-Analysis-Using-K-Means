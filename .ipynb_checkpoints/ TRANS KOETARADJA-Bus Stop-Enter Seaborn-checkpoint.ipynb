{
 "cells": [
  {
   "cell_type": "markdown",
   "metadata": {},
   "source": [
    "# Scrapping table from pdf file"
   ]
  },
  {
   "cell_type": "code",
   "execution_count": null,
   "metadata": {},
   "outputs": [],
   "source": [
    "# pip install tabula-py\n",
    "import tabula"
   ]
  },
  {
   "cell_type": "markdown",
   "metadata": {},
   "source": [
    "there is 4 pages in the pdf file, use for loop to extract it to list"
   ]
  },
  {
   "cell_type": "code",
   "execution_count": null,
   "metadata": {},
   "outputs": [],
   "source": [
    "list = []\n",
    "for i in range(1, 5) :\n",
    "    j = str(i)\n",
    "    pdf = tabula.io.read_pdf('Halte Trans Koetaradja.pdf', pages=j, stream=True, output_format='dataframe')\n",
    "    list.append(pdf)\n"
   ]
  },
  {
   "cell_type": "markdown",
   "metadata": {},
   "source": [
    "the result is list of list of dataframe"
   ]
  },
  {
   "cell_type": "code",
   "execution_count": null,
   "metadata": {},
   "outputs": [],
   "source": [
    "len(list)"
   ]
  },
  {
   "cell_type": "markdown",
   "metadata": {},
   "source": [
    "# Cleaning"
   ]
  },
  {
   "cell_type": "markdown",
   "metadata": {},
   "source": [
    "Every dataframe is using diferent table standard, so every dataframes will be treated differently"
   ]
  },
  {
   "cell_type": "code",
   "execution_count": null,
   "metadata": {},
   "outputs": [],
   "source": [
    "# import pandas library\n",
    "import pandas as pd"
   ]
  },
  {
   "cell_type": "markdown",
   "metadata": {},
   "source": [
    "## Table from page 1"
   ]
  },
  {
   "cell_type": "code",
   "execution_count": null,
   "metadata": {},
   "outputs": [],
   "source": [
    "# extracting table from page 1\n",
    "corr1 = pd.DataFrame(list[0][0])"
   ]
  },
  {
   "cell_type": "code",
   "execution_count": null,
   "metadata": {},
   "outputs": [],
   "source": [
    "# Each page represent each corridor, so we add corridor identifier after index\n",
    "# Corridor 1 : City Center-Darussalam Route\n",
    "corr1.insert(0, 'Corridor', 1)"
   ]
  },
  {
   "cell_type": "code",
   "execution_count": null,
   "metadata": {},
   "outputs": [],
   "source": [
    "# Remove unused column\n",
    "corr1.drop(columns=['NO', 'NAMA', 'TAHUN PEMBANGUNAN'], inplace=True)\n",
    "\n",
    "# Rename non the rest\n",
    "corr1.rename(columns={'Unnamed: 1' : 'Name', 'KOORDINAT' : 'Coordinates' }, inplace=True)\n",
    "corr1"
   ]
  },
  {
   "cell_type": "markdown",
   "metadata": {},
   "source": [
    "## Table 2"
   ]
  },
  {
   "cell_type": "code",
   "execution_count": null,
   "metadata": {},
   "outputs": [],
   "source": [
    "# extracting dataframe\n",
    "corr2 = pd.DataFrame(list[1][0])"
   ]
  },
  {
   "cell_type": "code",
   "execution_count": null,
   "metadata": {},
   "outputs": [],
   "source": [
    "# Corridor 2 : City Center-Blang Bintang Route\n",
    "corr2.insert(0, 'Corridor', 2)"
   ]
  },
  {
   "cell_type": "code",
   "execution_count": null,
   "metadata": {},
   "outputs": [],
   "source": [
    "# Remove unused column\n",
    "corr2.drop(columns=['NO', 'TAHUN PEMBANGUNAN'], axis=1, inplace=True)\n",
    "\n",
    "# Remove NaN Coordinates\n",
    "corr2.dropna(axis=0, inplace=True)\n",
    "\n",
    "# Rename the rest\n",
    "corr2.rename(columns={'NAMA' : 'Name', 'KOORDINAT' : 'Coordinates' }, inplace=True)\n",
    "corr2"
   ]
  },
  {
   "cell_type": "markdown",
   "metadata": {},
   "source": [
    "## Table 3"
   ]
  },
  {
   "cell_type": "code",
   "execution_count": null,
   "metadata": {},
   "outputs": [],
   "source": [
    "# extracting table\n",
    "corr3 = pd.DataFrame(list[2][0])\n",
    "\n",
    "# Corridor 3 : City Center-Mata Ie Route\n",
    "corr3.insert(0, 'Corridor', 3)"
   ]
  },
  {
   "cell_type": "code",
   "execution_count": null,
   "metadata": {},
   "outputs": [],
   "source": [
    "# Remove unused row\n",
    "# the last bus stop (index=20) will be deleted, because is not yet available, listed as on-demand (\"sesuai demand\" in bahasa)\n",
    "corr3.drop(index=[0, 1, 20], inplace=True)\n",
    "\n",
    "# Remove unused column\n",
    "corr3.drop(columns=['Unnamed: 0', 'Unnamed: 2', 'TAHUN PEMBANGUNAN'], inplace=True)\n",
    "\n",
    "# Rename the rest\n",
    "corr3.rename(columns={'Unnamed: 1' : 'Name', 'Unnamed: 3' : 'Coordinates' }, inplace=True)\n",
    "corr3"
   ]
  },
  {
   "cell_type": "markdown",
   "metadata": {},
   "source": [
    "## Table 4"
   ]
  },
  {
   "cell_type": "code",
   "execution_count": null,
   "metadata": {},
   "outputs": [],
   "source": [
    "# extracting table\n",
    "corr4 = pd.DataFrame(list[3][0])\n",
    "\n",
    "# Corridor 4 : City Center-Ulee Kareng - Blang Bintang Route\n",
    "corr4.insert(0, 'Corridor', 4)"
   ]
  },
  {
   "cell_type": "code",
   "execution_count": null,
   "metadata": {},
   "outputs": [],
   "source": [
    "# Remove unused row\n",
    "# the last bus stop (index=24) will be deleted, because is not yet available, listed as on-demand (\"sesuai demand\" in bahasa)\n",
    "corr4.drop(index=[0, 1, 24], inplace=True)\n",
    "\n",
    "# Remove unused column\n",
    "corr4.drop(columns=['Unnamed: 0', 'TAHUN PEMBANGUNAN'], inplace=True)\n",
    "\n",
    "# Rename the rest\n",
    "corr4.rename(columns={'Unnamed: 1' : 'Name', 'Unnamed: 2' : 'Coordinates' }, inplace=True)\n",
    "corr4"
   ]
  },
  {
   "cell_type": "markdown",
   "metadata": {},
   "source": [
    "## Merge Corridors dataframe"
   ]
  },
  {
   "cell_type": "code",
   "execution_count": null,
   "metadata": {
    "scrolled": true
   },
   "outputs": [],
   "source": [
    "bus_stops_df = pd.concat([corr1, corr2, corr3, corr4], ignore_index=True)\n",
    "bus_stops_df"
   ]
  },
  {
   "cell_type": "markdown",
   "metadata": {},
   "source": [
    "## Visualization using GeoPy and Folium"
   ]
  },
  {
   "cell_type": "markdown",
   "metadata": {},
   "source": [
    "Get Banda Aceh City latitude and longitude from GeoPy"
   ]
  },
  {
   "cell_type": "code",
   "execution_count": null,
   "metadata": {},
   "outputs": [],
   "source": [
    "# pip install geopy\n",
    "from geopy.geocoders import Nominatim"
   ]
  },
  {
   "cell_type": "code",
   "execution_count": null,
   "metadata": {},
   "outputs": [],
   "source": [
    "locator = Nominatim(user_agent='myGeocoder', timeout=2) # using timeout > 1 to prevent timeout error\n",
    "location = locator.geocode('Banda Aceh')"
   ]
  },
  {
   "cell_type": "code",
   "execution_count": null,
   "metadata": {},
   "outputs": [],
   "source": [
    "print('Location : ', location)\n",
    "print('Banda Aceh Latitude = {} \\nBanda Aceh Longitude = {}'.format(location.latitude, location.longitude))"
   ]
  },
  {
   "cell_type": "markdown",
   "metadata": {},
   "source": [
    "## Corridor visualization"
   ]
  },
  {
   "cell_type": "code",
   "execution_count": null,
   "metadata": {},
   "outputs": [],
   "source": [
    "# conda install folium -c conda-forge\n",
    "import folium\n",
    "from folium import plugins"
   ]
  },
  {
   "cell_type": "code",
   "execution_count": null,
   "metadata": {},
   "outputs": [],
   "source": [
    "corridor_colors = {\n",
    "    '1' : '#FF0000', \n",
    "    '2' : '#FFFF00',\n",
    "    '3' : '#00FF00',\n",
    "    '4' : '#0000FF'\n",
    "}"
   ]
  },
  {
   "cell_type": "code",
   "execution_count": null,
   "metadata": {},
   "outputs": [],
   "source": [
    "# map of Aceh\n",
    "latitude = location.latitude\n",
    "longitude = location.longitude\n",
    "bus_stops_map = folium.Map(location=[latitude, longitude], zoom_start=12)\n",
    "\n",
    "# instantiate a mark cluster\n",
    "cluster = plugins.MarkerCluster().add_to(bus_stops_map)\n",
    "\n",
    "# loop through the dataframe and add each data point to the mark cluster\n",
    "# Label every marker with it's own PostalCode\n",
    "for corridor, name, coordinates in zip(bus_stops_df.Corridor, bus_stops_df.Name, bus_stops_df.Coordinates):\n",
    "    latlong = [float(x) for x in coordinates.split(',')]\n",
    "    folium.Marker(\n",
    "        location=latlong,\n",
    "        icon=None,\n",
    "        popup=name,\n",
    "    ).add_to(cluster)\n",
    " \n",
    "    \n",
    "# display map\n",
    "bus_stops_map"
   ]
  },
  {
   "cell_type": "markdown",
   "metadata": {},
   "source": [
    "# Forsquare API"
   ]
  },
  {
   "cell_type": "markdown",
   "metadata": {},
   "source": [
    "import json\n",
    "import requests\n",
    "proxies = {\n",
    "  \"http\": None,\n",
    "  \"https\": None,\n",
    "}\n",
    "\n",
    "# secrets = json.load(open('foursquare-api.json'))\n",
    "CLIENT_ID = 'HD5WKR30YSH3KWIURZZEZR5RYFMGN0SK13M1ORUNRF4H1YBU'\n",
    "CLIENT_SECRET = 'XCZPYADWC513C2LKCZBXEXUTWN5OYVDKOK1PYPFMKIZS23QI'\n",
    "VERSION = '20180323'"
   ]
  },
  {
   "cell_type": "markdown",
   "metadata": {},
   "source": [
    "#categories_url = 'https://api.foursquare.com/v2/venues/categories?client_id={}&client_secret={}&v={}'.format(\n",
    "            CLIENT_ID, \n",
    "            CLIENT_SECRET, \n",
    "            VERSION)\n",
    "            \n",
    "# make the GET request\n",
    "#results = requests.get(categories_url).json()\n",
    "\n",
    "#with open('categories.json', 'w') as json_file:\n",
    "    #json.dump(results, json_file)"
   ]
  },
  {
   "cell_type": "markdown",
   "metadata": {},
   "source": [
    "with open('categories.json', 'r') as f:\n",
    "    results = json.load(f)\n",
    "\n",
    "len(results['response']['categories'])"
   ]
  },
  {
   "cell_type": "markdown",
   "metadata": {},
   "source": [
    "categories_list = []\n",
    "# Let's print only the top-level categories and their IDs and also add them to categories_list\n",
    "\n",
    "def print_categories(categories, level=0, max_level=0):    \n",
    "    if level>max_level: return\n",
    "    out = ''\n",
    "    out += '-'*level\n",
    "    for category in categories:\n",
    "        print(out + category['name'] + ' (' + category['id'] + ')')\n",
    "        print_categories(category['categories'], level+1, max_level)\n",
    "        categories_list.append((category['name'], category['id']))\n",
    "        \n",
    "print_categories(results['response']['categories'], 0, 0)"
   ]
  },
  {
   "cell_type": "markdown",
   "metadata": {},
   "source": [
    "def get_venues_count(ll, radius, categoryId):\n",
    "    explore_url = 'https://api.foursquare.com/v2/venues/explore?client_id={}&client_secret={}&v={}&ll={}&radius={}&categoryId={}'.format(\n",
    "                CLIENT_ID, \n",
    "                CLIENT_SECRET, \n",
    "                VERSION,\n",
    "                ll,\n",
    "                radius,\n",
    "                categoryId)\n",
    "\n",
    "    # make the GET request\n",
    "    return requests.get(explore_url, proxies=proxies).json()['response']['totalResults']"
   ]
  },
  {
   "cell_type": "markdown",
   "metadata": {},
   "source": [
    "#Create new dataframe to store venues data\n",
    "venues_df = bus_stops_df.copy()\n",
    "for c in categories_list:\n",
    "    venues_df[c[0]] = 0\n",
    "\n",
    "venues_df"
   ]
  },
  {
   "cell_type": "markdown",
   "metadata": {},
   "source": [
    "#Request number of venues, store result as CSV\n",
    "for i, row in venues_df.iterrows():\n",
    "    print(i+70)\n",
    "    for c in categories_list:        \n",
    "        venues_df.loc[i+70, c[0]] = get_venues_count(venues_df.Coordinates.iloc[i+70], radius=500, categoryId=c[1])\n",
    "    venues_df.to_csv('70.csv')"
   ]
  },
  {
   "cell_type": "markdown",
   "metadata": {},
   "source": [
    "# Plotting to a box plot using atrtist layer"
   ]
  },
  {
   "cell_type": "code",
   "execution_count": 1,
   "metadata": {},
   "outputs": [
    {
     "data": {
      "text/html": [
       "<div>\n",
       "<style scoped>\n",
       "    .dataframe tbody tr th:only-of-type {\n",
       "        vertical-align: middle;\n",
       "    }\n",
       "\n",
       "    .dataframe tbody tr th {\n",
       "        vertical-align: top;\n",
       "    }\n",
       "\n",
       "    .dataframe thead th {\n",
       "        text-align: right;\n",
       "    }\n",
       "</style>\n",
       "<table border=\"1\" class=\"dataframe\">\n",
       "  <thead>\n",
       "    <tr style=\"text-align: right;\">\n",
       "      <th></th>\n",
       "      <th>Corridor</th>\n",
       "      <th>Name</th>\n",
       "      <th>Coordinates</th>\n",
       "      <th>Arts &amp; Entertainment</th>\n",
       "      <th>College &amp; University</th>\n",
       "      <th>Event</th>\n",
       "      <th>Food</th>\n",
       "      <th>Nightlife Spot</th>\n",
       "      <th>Outdoors &amp; Recreation</th>\n",
       "      <th>Professional &amp; Other Places</th>\n",
       "      <th>Residence</th>\n",
       "      <th>Shop &amp; Service</th>\n",
       "      <th>Travel &amp; Transport</th>\n",
       "    </tr>\n",
       "  </thead>\n",
       "  <tbody>\n",
       "    <tr>\n",
       "      <th>0</th>\n",
       "      <td>1</td>\n",
       "      <td>HALTE KEUDAH</td>\n",
       "      <td>5.559781, 95.317649</td>\n",
       "      <td>7</td>\n",
       "      <td>4</td>\n",
       "      <td>0</td>\n",
       "      <td>39</td>\n",
       "      <td>1</td>\n",
       "      <td>6</td>\n",
       "      <td>29</td>\n",
       "      <td>6</td>\n",
       "      <td>39</td>\n",
       "      <td>10</td>\n",
       "    </tr>\n",
       "    <tr>\n",
       "      <th>1</th>\n",
       "      <td>1</td>\n",
       "      <td>HALTE PORTABLE MASJID RAYA</td>\n",
       "      <td>5.553979, 95.318540</td>\n",
       "      <td>12</td>\n",
       "      <td>3</td>\n",
       "      <td>0</td>\n",
       "      <td>28</td>\n",
       "      <td>1</td>\n",
       "      <td>8</td>\n",
       "      <td>37</td>\n",
       "      <td>6</td>\n",
       "      <td>41</td>\n",
       "      <td>11</td>\n",
       "    </tr>\n",
       "    <tr>\n",
       "      <th>2</th>\n",
       "      <td>1</td>\n",
       "      <td>HALTE SP. LIMA</td>\n",
       "      <td>5.556597, 95.323211</td>\n",
       "      <td>5</td>\n",
       "      <td>4</td>\n",
       "      <td>0</td>\n",
       "      <td>30</td>\n",
       "      <td>4</td>\n",
       "      <td>6</td>\n",
       "      <td>41</td>\n",
       "      <td>5</td>\n",
       "      <td>52</td>\n",
       "      <td>9</td>\n",
       "    </tr>\n",
       "    <tr>\n",
       "      <th>3</th>\n",
       "      <td>1</td>\n",
       "      <td>HALTE KP. KEURAMAT</td>\n",
       "      <td>5.558210, 95.327378</td>\n",
       "      <td>10</td>\n",
       "      <td>4</td>\n",
       "      <td>0</td>\n",
       "      <td>20</td>\n",
       "      <td>3</td>\n",
       "      <td>1</td>\n",
       "      <td>34</td>\n",
       "      <td>6</td>\n",
       "      <td>27</td>\n",
       "      <td>4</td>\n",
       "    </tr>\n",
       "    <tr>\n",
       "      <th>4</th>\n",
       "      <td>1</td>\n",
       "      <td>HALTE PORTABLE SP. JAMBO TAPE</td>\n",
       "      <td>5.559729, 95.330911</td>\n",
       "      <td>9</td>\n",
       "      <td>6</td>\n",
       "      <td>0</td>\n",
       "      <td>30</td>\n",
       "      <td>6</td>\n",
       "      <td>15</td>\n",
       "      <td>25</td>\n",
       "      <td>2</td>\n",
       "      <td>17</td>\n",
       "      <td>3</td>\n",
       "    </tr>\n",
       "  </tbody>\n",
       "</table>\n",
       "</div>"
      ],
      "text/plain": [
       "   Corridor                           Name          Coordinates  \\\n",
       "0         1                   HALTE KEUDAH  5.559781, 95.317649   \n",
       "1         1     HALTE PORTABLE MASJID RAYA  5.553979, 95.318540   \n",
       "2         1                 HALTE SP. LIMA  5.556597, 95.323211   \n",
       "3         1             HALTE KP. KEURAMAT  5.558210, 95.327378   \n",
       "4         1  HALTE PORTABLE SP. JAMBO TAPE  5.559729, 95.330911   \n",
       "\n",
       "   Arts & Entertainment  College & University  Event  Food  Nightlife Spot  \\\n",
       "0                     7                     4      0    39               1   \n",
       "1                    12                     3      0    28               1   \n",
       "2                     5                     4      0    30               4   \n",
       "3                    10                     4      0    20               3   \n",
       "4                     9                     6      0    30               6   \n",
       "\n",
       "   Outdoors & Recreation  Professional & Other Places  Residence  \\\n",
       "0                      6                           29          6   \n",
       "1                      8                           37          6   \n",
       "2                      6                           41          5   \n",
       "3                      1                           34          6   \n",
       "4                     15                           25          2   \n",
       "\n",
       "   Shop & Service  Travel & Transport  \n",
       "0              39                  10  \n",
       "1              41                  11  \n",
       "2              52                   9  \n",
       "3              27                   4  \n",
       "4              17                   3  "
      ]
     },
     "execution_count": 1,
     "metadata": {},
     "output_type": "execute_result"
    }
   ],
   "source": [
    "# Read venues csv\n",
    "import pandas as pd\n",
    "venues_df = pd.read_csv('venues.csv', index_col=0)\n",
    "venues_df.head()"
   ]
  },
  {
   "cell_type": "code",
   "execution_count": null,
   "metadata": {},
   "outputs": [],
   "source": []
  },
  {
   "cell_type": "code",
   "execution_count": 2,
   "metadata": {},
   "outputs": [
    {
     "name": "stderr",
     "output_type": "stream",
     "text": [
      "\n",
      "Bad key \"text.kerning_factor\" on line 4 in\n",
      "C:\\Users\\adipurnamk\\Miniconda3\\lib\\site-packages\\matplotlib\\mpl-data\\stylelib\\_classic_test_patch.mplstyle.\n",
      "You probably need to get an updated matplotlibrc file from\n",
      "https://github.com/matplotlib/matplotlib/blob/v3.1.3/matplotlibrc.template\n",
      "or from the matplotlib source distribution\n"
     ]
    }
   ],
   "source": [
    "import seaborn as sns\n",
    "import matplotlib.pyplot as plt"
   ]
  },
  {
   "cell_type": "code",
   "execution_count": 3,
   "metadata": {},
   "outputs": [
    {
     "data": {
      "image/png": "[encoded data removed]",
      "text/plain": [
       "<Figure size 1440x720 with 1 Axes>"
      ]
     },
     "metadata": {
      "needs_background": "light"
     },
     "output_type": "display_data"
    }
   ],
   "source": [
    "box_venues = venues_df.drop('Corridor', axis=1) #drop corridor labes, exclude from boxplot\n",
    "\n",
    "plt.figure(figsize=(20, 10))\n",
    "ax = sns.boxplot(data = box_venues, orient='h', palette='Set2')\n",
    "\n",
    "# More detail costumization\n",
    "ax.set_ylabel('Count', fontsize=25)\n",
    "ax.set_xlabel('Categories', fontsize=25)\n",
    "ax.tick_params(labelsize=15)\n",
    "plt.xticks(rotation='vertical')\n",
    "plt.show()"
   ]
  },
  {
   "cell_type": "markdown",
   "metadata": {},
   "source": [
    "# Clustering"
   ]
  },
  {
   "cell_type": "code",
   "execution_count": 4,
   "metadata": {},
   "outputs": [],
   "source": [
    "from sklearn.preprocessing import MinMaxScaler\n",
    "import numpy as np"
   ]
  },
  {
   "cell_type": "code",
   "execution_count": 5,
   "metadata": {},
   "outputs": [],
   "source": [
    "venues_df.drop('Event',1, inplace=True)"
   ]
  },
  {
   "cell_type": "code",
   "execution_count": 6,
   "metadata": {},
   "outputs": [
    {
     "data": {
      "text/plain": [
       "array([[0.53846154, 0.09090909, 0.75      , 0.125     , 0.4       ,\n",
       "        0.65116279, 1.        , 0.69642857, 0.83333333],\n",
       "       [0.92307692, 0.06818182, 0.53846154, 0.125     , 0.53333333,\n",
       "        0.8372093 , 1.        , 0.73214286, 0.91666667],\n",
       "       [0.38461538, 0.09090909, 0.57692308, 0.5       , 0.4       ,\n",
       "        0.93023256, 0.83333333, 0.92857143, 0.75      ],\n",
       "       [0.76923077, 0.09090909, 0.38461538, 0.375     , 0.06666667,\n",
       "        0.76744186, 1.        , 0.48214286, 0.33333333],\n",
       "       [0.69230769, 0.13636364, 0.57692308, 0.75      , 1.        ,\n",
       "        0.55813953, 0.33333333, 0.30357143, 0.25      ]])"
      ]
     },
     "execution_count": 6,
     "metadata": {},
     "output_type": "execute_result"
    }
   ],
   "source": [
    "X = venues_df.iloc[:,3:]\n",
    "X = np.nan_to_num(X)\n",
    "cluster_ds = MinMaxScaler().fit_transform(X)\n",
    "cluster_ds[:5]"
   ]
  },
  {
   "cell_type": "code",
   "execution_count": 16,
   "metadata": {},
   "outputs": [
    {
     "data": {
      "image/png": "[encoded data removed]",
      "text/plain": [
       "<Figure size 576x396 with 2 Axes>"
      ]
     },
     "metadata": {},
     "output_type": "display_data"
    },
    {
     "data": {
      "text/plain": [
       "<matplotlib.axes._subplots.AxesSubplot at 0x1841f171e88>"
      ]
     },
     "execution_count": 16,
     "metadata": {},
     "output_type": "execute_result"
    }
   ],
   "source": [
    "# check for optimum k value using yellowbirkc library\n",
    "\n",
    "from sklearn.cluster import KMeans\n",
    "from yellowbrick.cluster import KElbowVisualizer\n",
    "\n",
    "# Instantiate the clustering model and visualizer\n",
    "model = KMeans()\n",
    "visualizer = KElbowVisualizer(model, k=(1,12)) # estimate 1 to 12 clusters\n",
    "\n",
    "visualizer.fit(cluster_ds)        # Fit the data to the visualizer\n",
    "visualizer.show()        # Finalize and render the figure"
   ]
  },
  {
   "cell_type": "code",
   "execution_count": 8,
   "metadata": {},
   "outputs": [
    {
     "name": "stdout",
     "output_type": "stream",
     "text": [
      "[1 1 1 1 3 3 3 2 2 2 4 4 4 4 4 2 2 3 3 3 3 1 1 1 4 2 0 0 0 0 1 1 2 3 2 2 2\n",
      " 2 0 0 0 0 0 0 0 0 1 3 3 4 0 0 3 3 3 3 3 3 2 2 2 2 2 2 0 0 0 0 3 0 1 3 3 3\n",
      " 3 3 3 3 2 2 2 2 0 0 0 0 0 0 0 0 0 0]\n"
     ]
    }
   ],
   "source": [
    "# labeling based on cluster\n",
    "\n",
    "from sklearn.cluster import KMeans \n",
    "\n",
    "# using k value from yellowbrick plot\n",
    "k = 5\n",
    "k_means = KMeans(init = \"k-means++\", n_clusters = k, n_init = 20)\n",
    "k_means.fit(cluster_ds)\n",
    "labels = k_means.labels_\n",
    "print(labels)"
   ]
  },
  {
   "cell_type": "code",
   "execution_count": 9,
   "metadata": {},
   "outputs": [
    {
     "data": {
      "text/html": [
       "<div>\n",
       "<style scoped>\n",
       "    .dataframe tbody tr th:only-of-type {\n",
       "        vertical-align: middle;\n",
       "    }\n",
       "\n",
       "    .dataframe tbody tr th {\n",
       "        vertical-align: top;\n",
       "    }\n",
       "\n",
       "    .dataframe thead th {\n",
       "        text-align: right;\n",
       "    }\n",
       "</style>\n",
       "<table border=\"1\" class=\"dataframe\">\n",
       "  <thead>\n",
       "    <tr style=\"text-align: right;\">\n",
       "      <th></th>\n",
       "      <th>Corridor</th>\n",
       "      <th>Name</th>\n",
       "      <th>Coordinates</th>\n",
       "      <th>Arts &amp; Entertainment</th>\n",
       "      <th>College &amp; University</th>\n",
       "      <th>Food</th>\n",
       "      <th>Nightlife Spot</th>\n",
       "      <th>Outdoors &amp; Recreation</th>\n",
       "      <th>Professional &amp; Other Places</th>\n",
       "      <th>Residence</th>\n",
       "      <th>Shop &amp; Service</th>\n",
       "      <th>Travel &amp; Transport</th>\n",
       "      <th>Cluster</th>\n",
       "    </tr>\n",
       "  </thead>\n",
       "  <tbody>\n",
       "    <tr>\n",
       "      <th>0</th>\n",
       "      <td>1</td>\n",
       "      <td>HALTE KEUDAH</td>\n",
       "      <td>5.559781, 95.317649</td>\n",
       "      <td>7</td>\n",
       "      <td>4</td>\n",
       "      <td>39</td>\n",
       "      <td>1</td>\n",
       "      <td>6</td>\n",
       "      <td>29</td>\n",
       "      <td>6</td>\n",
       "      <td>39</td>\n",
       "      <td>10</td>\n",
       "      <td>1</td>\n",
       "    </tr>\n",
       "    <tr>\n",
       "      <th>1</th>\n",
       "      <td>1</td>\n",
       "      <td>HALTE PORTABLE MASJID RAYA</td>\n",
       "      <td>5.553979, 95.318540</td>\n",
       "      <td>12</td>\n",
       "      <td>3</td>\n",
       "      <td>28</td>\n",
       "      <td>1</td>\n",
       "      <td>8</td>\n",
       "      <td>37</td>\n",
       "      <td>6</td>\n",
       "      <td>41</td>\n",
       "      <td>11</td>\n",
       "      <td>1</td>\n",
       "    </tr>\n",
       "    <tr>\n",
       "      <th>2</th>\n",
       "      <td>1</td>\n",
       "      <td>HALTE SP. LIMA</td>\n",
       "      <td>5.556597, 95.323211</td>\n",
       "      <td>5</td>\n",
       "      <td>4</td>\n",
       "      <td>30</td>\n",
       "      <td>4</td>\n",
       "      <td>6</td>\n",
       "      <td>41</td>\n",
       "      <td>5</td>\n",
       "      <td>52</td>\n",
       "      <td>9</td>\n",
       "      <td>1</td>\n",
       "    </tr>\n",
       "    <tr>\n",
       "      <th>3</th>\n",
       "      <td>1</td>\n",
       "      <td>HALTE KP. KEURAMAT</td>\n",
       "      <td>5.558210, 95.327378</td>\n",
       "      <td>10</td>\n",
       "      <td>4</td>\n",
       "      <td>20</td>\n",
       "      <td>3</td>\n",
       "      <td>1</td>\n",
       "      <td>34</td>\n",
       "      <td>6</td>\n",
       "      <td>27</td>\n",
       "      <td>4</td>\n",
       "      <td>1</td>\n",
       "    </tr>\n",
       "    <tr>\n",
       "      <th>4</th>\n",
       "      <td>1</td>\n",
       "      <td>HALTE PORTABLE SP. JAMBO TAPE</td>\n",
       "      <td>5.559729, 95.330911</td>\n",
       "      <td>9</td>\n",
       "      <td>6</td>\n",
       "      <td>30</td>\n",
       "      <td>6</td>\n",
       "      <td>15</td>\n",
       "      <td>25</td>\n",
       "      <td>2</td>\n",
       "      <td>17</td>\n",
       "      <td>3</td>\n",
       "      <td>3</td>\n",
       "    </tr>\n",
       "  </tbody>\n",
       "</table>\n",
       "</div>"
      ],
      "text/plain": [
       "   Corridor                           Name          Coordinates  \\\n",
       "0         1                   HALTE KEUDAH  5.559781, 95.317649   \n",
       "1         1     HALTE PORTABLE MASJID RAYA  5.553979, 95.318540   \n",
       "2         1                 HALTE SP. LIMA  5.556597, 95.323211   \n",
       "3         1             HALTE KP. KEURAMAT  5.558210, 95.327378   \n",
       "4         1  HALTE PORTABLE SP. JAMBO TAPE  5.559729, 95.330911   \n",
       "\n",
       "   Arts & Entertainment  College & University  Food  Nightlife Spot  \\\n",
       "0                     7                     4    39               1   \n",
       "1                    12                     3    28               1   \n",
       "2                     5                     4    30               4   \n",
       "3                    10                     4    20               3   \n",
       "4                     9                     6    30               6   \n",
       "\n",
       "   Outdoors & Recreation  Professional & Other Places  Residence  \\\n",
       "0                      6                           29          6   \n",
       "1                      8                           37          6   \n",
       "2                      6                           41          5   \n",
       "3                      1                           34          6   \n",
       "4                     15                           25          2   \n",
       "\n",
       "   Shop & Service  Travel & Transport  Cluster  \n",
       "0              39                  10        1  \n",
       "1              41                  11        1  \n",
       "2              52                   9        1  \n",
       "3              27                   4        1  \n",
       "4              17                   3        3  "
      ]
     },
     "execution_count": 9,
     "metadata": {},
     "output_type": "execute_result"
    }
   ],
   "source": [
    "venues_df['Cluster'] = labels\n",
    "cluster_df = venues_df\n",
    "cluster_df.head()"
   ]
  },
  {
   "cell_type": "markdown",
   "metadata": {},
   "source": [
    "cluster_dict={}\n",
    "for i in range(k):\n",
    "    cluster_dict[\"Cluster{0}\".format(i)]=cluster_df.loc[cluster_df['Cluster'] == i]"
   ]
  },
  {
   "cell_type": "markdown",
   "metadata": {},
   "source": [
    "cluster_dict['Cluster1'].head()"
   ]
  },
  {
   "cell_type": "code",
   "execution_count": 10,
   "metadata": {},
   "outputs": [
    {
     "data": {
      "image/png": "[encoded data removed]",
      "text/plain": [
       "<Figure size 1440x720 with 5 Axes>"
      ]
     },
     "metadata": {},
     "output_type": "display_data"
    }
   ],
   "source": [
    "import matplotlib.ticker as ticker\n",
    "\n",
    "fig, axes = plt.subplots(1, k, figsize=(20, 10), sharey=True)\n",
    "\n",
    "axes[0].set_ylabel('Count of venues', fontsize=25)\n",
    "#plt.set_xlabel('Venue category', fontsize='x-large')\n",
    "\n",
    "for a in range(k):\n",
    "    #Set same y axis limits\n",
    "    axes[a].xaxis.set_label_position('top')\n",
    "    axes[a].set_xlabel('Cluster ' + str(a+1), fontsize=25)\n",
    "    axes[a].tick_params(labelsize=20)\n",
    "    plt.sca(axes[a])\n",
    "    plt.xticks(rotation='vertical')\n",
    "    sns.boxplot(data = cluster_df.loc[cluster_df['Cluster'] == a].drop(['Cluster', 'Corridor'],1), ax=axes[a])\n",
    "\n",
    "plt.show()"
   ]
  },
  {
   "cell_type": "code",
   "execution_count": 11,
   "metadata": {},
   "outputs": [
    {
     "name": "stdout",
     "output_type": "stream",
     "text": [
      "{'Cluster 1': 29, 'Cluster 2': 11, 'Cluster 3': 21, 'Cluster 4': 24, 'Cluster 5': 7}\n"
     ]
    }
   ],
   "source": [
    "count={}\n",
    "for b in range(k):\n",
    "    count[\"Cluster {0}\".format(b+1)]=cluster_df.loc[cluster_df['Cluster'] == b].shape[0]\n",
    "    \n",
    "print(count)"
   ]
  },
  {
   "cell_type": "code",
   "execution_count": 12,
   "metadata": {},
   "outputs": [
    {
     "ename": "NameError",
     "evalue": "name 'location' is not defined",
     "output_type": "error",
     "traceback": [
      "\u001b[1;31m---------------------------------------------------------------------------\u001b[0m",
      "\u001b[1;31mNameError\u001b[0m                                 Traceback (most recent call last)",
      "\u001b[1;32m<ipython-input-12-decec256031f>\u001b[0m in \u001b[0;36m<module>\u001b[1;34m\u001b[0m\n\u001b[0;32m      3\u001b[0m \u001b[0mcluster_df\u001b[0m\u001b[1;33m[\u001b[0m\u001b[1;34m'lon'\u001b[0m\u001b[1;33m]\u001b[0m \u001b[1;33m=\u001b[0m \u001b[0mcluster_df\u001b[0m\u001b[1;33m.\u001b[0m\u001b[0mCoordinates\u001b[0m\u001b[1;33m.\u001b[0m\u001b[0mstr\u001b[0m\u001b[1;33m[\u001b[0m\u001b[1;36m10\u001b[0m\u001b[1;33m:\u001b[0m\u001b[1;33m]\u001b[0m\u001b[1;33m.\u001b[0m\u001b[0mastype\u001b[0m\u001b[1;33m(\u001b[0m\u001b[0mfloat\u001b[0m\u001b[1;33m)\u001b[0m\u001b[1;33m\u001b[0m\u001b[1;33m\u001b[0m\u001b[0m\n\u001b[0;32m      4\u001b[0m \u001b[1;33m\u001b[0m\u001b[0m\n\u001b[1;32m----> 5\u001b[1;33m \u001b[0mcluster_df\u001b[0m\u001b[1;33m[\u001b[0m\u001b[1;34m'lat_diff'\u001b[0m\u001b[1;33m]\u001b[0m \u001b[1;33m=\u001b[0m \u001b[1;33m(\u001b[0m\u001b[0mcluster_df\u001b[0m\u001b[1;33m[\u001b[0m\u001b[1;34m'lat'\u001b[0m\u001b[1;33m]\u001b[0m \u001b[1;33m-\u001b[0m \u001b[0mlocation\u001b[0m\u001b[1;33m.\u001b[0m\u001b[0mlatitude\u001b[0m\u001b[1;33m)\u001b[0m\u001b[1;33m**\u001b[0m\u001b[1;36m2\u001b[0m\u001b[1;33m\u001b[0m\u001b[1;33m\u001b[0m\u001b[0m\n\u001b[0m\u001b[0;32m      6\u001b[0m \u001b[0mcluster_df\u001b[0m\u001b[1;33m[\u001b[0m\u001b[1;34m'lon_diff'\u001b[0m\u001b[1;33m]\u001b[0m \u001b[1;33m=\u001b[0m \u001b[1;33m(\u001b[0m\u001b[0mcluster_df\u001b[0m\u001b[1;33m[\u001b[0m\u001b[1;34m'lat'\u001b[0m\u001b[1;33m]\u001b[0m \u001b[1;33m-\u001b[0m \u001b[0mlocation\u001b[0m\u001b[1;33m.\u001b[0m\u001b[0mlongitude\u001b[0m\u001b[1;33m)\u001b[0m\u001b[1;33m**\u001b[0m\u001b[1;36m2\u001b[0m\u001b[1;33m\u001b[0m\u001b[1;33m\u001b[0m\u001b[0m\n\u001b[0;32m      7\u001b[0m \u001b[0mcluster_df\u001b[0m\u001b[1;33m[\u001b[0m\u001b[1;34m'distance'\u001b[0m\u001b[1;33m]\u001b[0m \u001b[1;33m=\u001b[0m \u001b[0mcluster_df\u001b[0m\u001b[1;33m[\u001b[0m\u001b[1;33m[\u001b[0m\u001b[1;34m'lat_diff'\u001b[0m\u001b[1;33m,\u001b[0m\u001b[1;34m'lon_diff'\u001b[0m\u001b[1;33m]\u001b[0m\u001b[1;33m]\u001b[0m\u001b[1;33m.\u001b[0m\u001b[0msum\u001b[0m\u001b[1;33m(\u001b[0m\u001b[0maxis\u001b[0m\u001b[1;33m=\u001b[0m\u001b[1;36m1\u001b[0m\u001b[1;33m)\u001b[0m\u001b[1;33m.\u001b[0m\u001b[0mpow\u001b[0m\u001b[1;33m(\u001b[0m\u001b[1;36m1.\u001b[0m\u001b[1;33m/\u001b[0m\u001b[1;36m2\u001b[0m\u001b[1;33m)\u001b[0m\u001b[1;33m\u001b[0m\u001b[1;33m\u001b[0m\u001b[0m\n",
      "\u001b[1;31mNameError\u001b[0m: name 'location' is not defined"
     ]
    }
   ],
   "source": [
    "# Make distance column\n",
    "cluster_df['lat'] = cluster_df.Coordinates.str[:8].astype(float)\n",
    "cluster_df['lon'] = cluster_df.Coordinates.str[10:].astype(float)\n",
    "\n",
    "cluster_df['lat_diff'] = (cluster_df['lat'] - location.latitude)**2\n",
    "cluster_df['lon_diff'] = (cluster_df['lat'] - location.longitude)**2\n",
    "cluster_df['distance'] = cluster_df[['lat_diff','lon_diff']].sum(axis=1).pow(1./2)"
   ]
  },
  {
   "cell_type": "code",
   "execution_count": null,
   "metadata": {},
   "outputs": [],
   "source": [
    "import folium\n",
    "from folium import plugins\n",
    "\n",
    "# map of Banda Aceh\n",
    "latitude = location.latitude\n",
    "longitude = location.longitude\n",
    "cluster_map = folium.Map(location=[latitude, longitude], zoom_start=12, tiles='OpenStreetMap')\n",
    "\n",
    "# Line color codes\n",
    "line_colors = {\n",
    "    '1':'red',\n",
    "    '2':'green',\n",
    "    '3':'blue',\n",
    "    '4':'black',\n",
    "    '5': 'white'\n",
    "}\n",
    "\n",
    "def draw_lines(dataframe, map_object, opacity=1):\n",
    "    prev_coordinates = None\n",
    "    prev_corridor= '1'\n",
    "    for corridor, coordinates in zip(dataframe['Corridor'], dataframe['Coordinates']):\n",
    "        latlong = [float(x) for x in coordinates.split(',')]\n",
    "        #don't draw line if line number changed\n",
    "        if corridor != prev_corridor:\n",
    "            prev_coordinates = None\n",
    "        if prev_coordinates != None:\n",
    "            folium.PolyLine([prev_coordinates, latlong], color=line_colors[str(corridor)], opacity=opacity).add_to(map_object)\n",
    "        prev_corridor = corridor\n",
    "        prev_coordinates = latlong\n",
    "        \n",
    "# Marking each bus stop\n",
    "colors=['purple','blue','green','red']\n",
    "# Loop through the dataframe and add each data point to the mark cluster\n",
    "for corridor, name, coordinates, cluster in zip(venues_df.Corridor, venues_df.Name, venues_df.Coordinates, venues_df.Cluster):\n",
    "    latlong = [float(x) for x in coordinates.split(',')]\n",
    "    folium.CircleMarker(\n",
    "        latlong,\n",
    "        fill=True,\n",
    "        fill_opacity=0.5,\n",
    "        radius=5,\n",
    "        color=colors[cluster]\n",
    "    ).add_to(cluster_map)\n",
    "\n",
    "        \n",
    "# display map\n",
    "# draw_lines(cluster_df.sort_values(['Corridor', 'distance']), cluster_map, opacity=1)\n",
    "cluster_map"
   ]
  },
  {
   "cell_type": "code",
   "execution_count": null,
   "metadata": {},
   "outputs": [],
   "source": []
  }
 ],
 "metadata": {
  "kernelspec": {
   "display_name": "Python 3",
   "language": "python",
   "name": "python3"
  },
  "language_info": {
   "codemirror_mode": {
    "name": "ipython",
    "version": 3
   },
   "file_extension": ".py",
   "mimetype": "text/x-python",
   "name": "python",
   "nbconvert_exporter": "python",
   "pygments_lexer": "ipython3",
   "version": "3.7.4"
  }
 },
 "nbformat": 4,
 "nbformat_minor": 4
}
