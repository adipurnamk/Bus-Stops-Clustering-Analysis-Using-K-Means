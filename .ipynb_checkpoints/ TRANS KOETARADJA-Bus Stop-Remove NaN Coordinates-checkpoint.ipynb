{
 "cells": [
  {
   "cell_type": "markdown",
   "metadata": {},
   "source": [
    "# Scrapping table from pdf file"
   ]
  },
  {
   "cell_type": "code",
   "execution_count": null,
   "metadata": {},
   "outputs": [],
   "source": [
    "# pip install tabula-py\n",
    "import tabula"
   ]
  },
  {
   "cell_type": "markdown",
   "metadata": {},
   "source": [
    "there is 4 pages in the pdf file, use for loop to extract it to list"
   ]
  },
  {
   "cell_type": "code",
   "execution_count": null,
   "metadata": {},
   "outputs": [],
   "source": [
    "list = []\n",
    "for i in range(1, 5) :\n",
    "    j = str(i)\n",
    "    pdf = tabula.io.read_pdf('Halte Trans Koetaradja.pdf', pages=j, stream=True, output_format='dataframe')\n",
    "    list.append(pdf)\n"
   ]
  },
  {
   "cell_type": "markdown",
   "metadata": {},
   "source": [
    "the result is list of list of dataframe"
   ]
  },
  {
   "cell_type": "code",
   "execution_count": null,
   "metadata": {},
   "outputs": [],
   "source": [
    "len(list)"
   ]
  },
  {
   "cell_type": "markdown",
   "metadata": {},
   "source": [
    "# Cleaning"
   ]
  },
  {
   "cell_type": "markdown",
   "metadata": {},
   "source": [
    "Every dataframe is using diferent table standard, so every dataframes will be treated differently"
   ]
  },
  {
   "cell_type": "code",
   "execution_count": null,
   "metadata": {},
   "outputs": [],
   "source": [
    "# import pandas library\n",
    "import pandas as pd"
   ]
  },
  {
   "cell_type": "markdown",
   "metadata": {},
   "source": [
    "## Table from page 1"
   ]
  },
  {
   "cell_type": "code",
   "execution_count": null,
   "metadata": {},
   "outputs": [],
   "source": [
    "# extracting table from page 1\n",
    "corr1 = pd.DataFrame(list[0][0])"
   ]
  },
  {
   "cell_type": "code",
   "execution_count": null,
   "metadata": {},
   "outputs": [],
   "source": [
    "# Each page represent each corridor, so we add corridor identifier after index\n",
    "# Corridor 1 : City Center-Darussalam Route\n",
    "corr1.insert(0, 'Corridor', 1)"
   ]
  },
  {
   "cell_type": "code",
   "execution_count": null,
   "metadata": {},
   "outputs": [],
   "source": [
    "# Remove unused column\n",
    "corr1.drop(columns=['NO', 'NAMA', 'TAHUN PEMBANGUNAN'], inplace=True)\n",
    "\n",
    "# Rename non the rest\n",
    "corr1.rename(columns={'Unnamed: 1' : 'Name', 'KOORDINAT' : 'Coordinates' }, inplace=True)\n",
    "corr1"
   ]
  },
  {
   "cell_type": "markdown",
   "metadata": {},
   "source": [
    "## Table 2"
   ]
  },
  {
   "cell_type": "code",
   "execution_count": null,
   "metadata": {},
   "outputs": [],
   "source": [
    "# extracting dataframe\n",
    "corr2 = pd.DataFrame(list[1][0])"
   ]
  },
  {
   "cell_type": "code",
   "execution_count": null,
   "metadata": {},
   "outputs": [],
   "source": [
    "# Corridor 2 : City Center-Blang Bintang Route\n",
    "corr2.insert(0, 'Corridor', 2)"
   ]
  },
  {
   "cell_type": "code",
   "execution_count": null,
   "metadata": {},
   "outputs": [],
   "source": [
    "# Remove unused column\n",
    "corr2.drop(columns=['NO', 'TAHUN PEMBANGUNAN'], axis=1, inplace=True)\n",
    "\n",
    "# Remove NaN Coordinates\n",
    "corr2.dropna(axis=0, inplace=True)\n",
    "\n",
    "# Rename the rest\n",
    "corr2.rename(columns={'NAMA' : 'Name', 'KOORDINAT' : 'Coordinates' }, inplace=True)\n",
    "corr2"
   ]
  },
  {
   "cell_type": "markdown",
   "metadata": {},
   "source": [
    "## Table 3"
   ]
  },
  {
   "cell_type": "code",
   "execution_count": null,
   "metadata": {},
   "outputs": [],
   "source": [
    "# extracting table\n",
    "corr3 = pd.DataFrame(list[2][0])\n",
    "\n",
    "# Corridor 3 : City Center-Mata Ie Route\n",
    "corr3.insert(0, 'Corridor', 3)"
   ]
  },
  {
   "cell_type": "code",
   "execution_count": null,
   "metadata": {},
   "outputs": [],
   "source": [
    "# Remove unused row\n",
    "# the last bus stop (index=20) will be deleted, because is not yet available, listed as on-demand (\"sesuai demand\" in bahasa)\n",
    "corr3.drop(index=[0, 1, 20], inplace=True)\n",
    "\n",
    "# Remove unused column\n",
    "corr3.drop(columns=['Unnamed: 0', 'Unnamed: 2', 'TAHUN PEMBANGUNAN'], inplace=True)\n",
    "\n",
    "# Rename the rest\n",
    "corr3.rename(columns={'Unnamed: 1' : 'Name', 'Unnamed: 3' : 'Coordinates' }, inplace=True)\n",
    "corr3"
   ]
  },
  {
   "cell_type": "markdown",
   "metadata": {},
   "source": [
    "## Table 4"
   ]
  },
  {
   "cell_type": "code",
   "execution_count": null,
   "metadata": {},
   "outputs": [],
   "source": [
    "# extracting table\n",
    "corr4 = pd.DataFrame(list[3][0])\n",
    "\n",
    "# Corridor 4 : City Center-Ulee Kareng - Blang Bintang Route\n",
    "corr4.insert(0, 'Corridor', 4)"
   ]
  },
  {
   "cell_type": "code",
   "execution_count": null,
   "metadata": {},
   "outputs": [],
   "source": [
    "# Remove unused row\n",
    "# the last bus stop (index=24) will be deleted, because is not yet available, listed as on-demand (\"sesuai demand\" in bahasa)\n",
    "corr4.drop(index=[0, 1, 24], inplace=True)\n",
    "\n",
    "# Remove unused column\n",
    "corr4.drop(columns=['Unnamed: 0', 'TAHUN PEMBANGUNAN'], inplace=True)\n",
    "\n",
    "# Rename the rest\n",
    "corr4.rename(columns={'Unnamed: 1' : 'Name', 'Unnamed: 2' : 'Coordinates' }, inplace=True)\n",
    "corr4"
   ]
  },
  {
   "cell_type": "markdown",
   "metadata": {},
   "source": [
    "## Merge Corridors dataframe"
   ]
  },
  {
   "cell_type": "code",
   "execution_count": null,
   "metadata": {
    "scrolled": true
   },
   "outputs": [],
   "source": [
    "bus_stops_df = pd.concat([corr1, corr2, corr3, corr4], ignore_index=True)\n",
    "bus_stops_df"
   ]
  },
  {
   "cell_type": "markdown",
   "metadata": {},
   "source": [
    "## Visualization using GeoPy and Folium"
   ]
  },
  {
   "cell_type": "markdown",
   "metadata": {},
   "source": [
    "Get Banda Aceh City latitude and longitude from GeoPy"
   ]
  },
  {
   "cell_type": "code",
   "execution_count": null,
   "metadata": {},
   "outputs": [],
   "source": [
    "# pip install geopy\n",
    "from geopy.geocoders import Nominatim"
   ]
  },
  {
   "cell_type": "code",
   "execution_count": null,
   "metadata": {},
   "outputs": [],
   "source": [
    "locator = Nominatim(user_agent='myGeocoder', timeout=2) # using timeout > 1 to prevent timeout error\n",
    "location = locator.geocode('Banda Aceh')"
   ]
  },
  {
   "cell_type": "code",
   "execution_count": null,
   "metadata": {},
   "outputs": [],
   "source": [
    "print('Location : ', location)\n",
    "print('Banda Aceh Latitude = {} \\nBanda Aceh Longitude = {}'.format(location.latitude, location.longitude))"
   ]
  },
  {
   "cell_type": "markdown",
   "metadata": {},
   "source": [
    "## Corridor visualization"
   ]
  },
  {
   "cell_type": "code",
   "execution_count": null,
   "metadata": {},
   "outputs": [],
   "source": [
    "# conda install folium -c conda-forge\n",
    "import folium\n",
    "from folium import plugins"
   ]
  },
  {
   "cell_type": "code",
   "execution_count": null,
   "metadata": {},
   "outputs": [],
   "source": [
    "corridor_colors = {\n",
    "    '1' : '#FF0000', \n",
    "    '2' : '#FFFF00',\n",
    "    '3' : '#00FF00',\n",
    "    '4' : '#0000FF'\n",
    "}"
   ]
  },
  {
   "cell_type": "code",
   "execution_count": null,
   "metadata": {},
   "outputs": [],
   "source": [
    "# map of Aceh\n",
    "latitude = location.latitude\n",
    "longitude = location.longitude\n",
    "bus_stops_map = folium.Map(location=[latitude, longitude], zoom_start=12)\n",
    "\n",
    "# instantiate a mark cluster\n",
    "cluster = plugins.MarkerCluster().add_to(bus_stops_map)\n",
    "\n",
    "# loop through the dataframe and add each data point to the mark cluster\n",
    "# Label every marker with it's own PostalCode\n",
    "for corridor, name, coordinates in zip(bus_stops_df.Corridor, bus_stops_df.Name, bus_stops_df.Coordinates):\n",
    "    latlong = [float(x) for x in coordinates.split(',')]\n",
    "    folium.Marker(\n",
    "        location=latlong,\n",
    "        icon=None,\n",
    "        popup=name,\n",
    "    ).add_to(cluster)\n",
    " \n",
    "    \n",
    "# display map\n",
    "bus_stops_map"
   ]
  },
  {
   "cell_type": "markdown",
   "metadata": {},
   "source": [
    "# Forsquare API"
   ]
  },
  {
   "cell_type": "code",
   "execution_count": null,
   "metadata": {},
   "outputs": [],
   "source": [
    "import json\n",
    "import requests\n",
    "proxies = {\n",
    "  \"http\": None,\n",
    "  \"https\": None,\n",
    "}\n",
    "\n",
    "# secrets = json.load(open('foursquare-api.json'))\n",
    "CLIENT_ID = 'HD5WKR30YSH3KWIURZZEZR5RYFMGN0SK13M1ORUNRF4H1YBU'\n",
    "CLIENT_SECRET = 'XCZPYADWC513C2LKCZBXEXUTWN5OYVDKOK1PYPFMKIZS23QI'\n",
    "VERSION = '20180323'"
   ]
  },
  {
   "cell_type": "code",
   "execution_count": null,
   "metadata": {},
   "outputs": [],
   "source": [
    "#categories_url = 'https://api.foursquare.com/v2/venues/categories?client_id={}&client_secret={}&v={}'.format(\n",
    "            CLIENT_ID, \n",
    "            CLIENT_SECRET, \n",
    "            VERSION)\n",
    "            \n",
    "# make the GET request\n",
    "#results = requests.get(categories_url).json()\n",
    "\n",
    "#with open('categories.json', 'w') as json_file:\n",
    "    #json.dump(results, json_file)"
   ]
  },
  {
   "cell_type": "code",
   "execution_count": null,
   "metadata": {},
   "outputs": [],
   "source": [
    "with open('categories.json', 'r') as f:\n",
    "    results = json.load(f)\n",
    "\n",
    "len(results['response']['categories'])"
   ]
  },
  {
   "cell_type": "code",
   "execution_count": null,
   "metadata": {},
   "outputs": [],
   "source": [
    "categories_list = []\n",
    "# Let's print only the top-level categories and their IDs and also add them to categories_list\n",
    "\n",
    "def print_categories(categories, level=0, max_level=0):    \n",
    "    if level>max_level: return\n",
    "    out = ''\n",
    "    out += '-'*level\n",
    "    for category in categories:\n",
    "        print(out + category['name'] + ' (' + category['id'] + ')')\n",
    "        print_categories(category['categories'], level+1, max_level)\n",
    "        categories_list.append((category['name'], category['id']))\n",
    "        \n",
    "print_categories(results['response']['categories'], 0, 0)"
   ]
  },
  {
   "cell_type": "code",
   "execution_count": null,
   "metadata": {},
   "outputs": [],
   "source": [
    "def get_venues_count(ll, radius, categoryId):\n",
    "    explore_url = 'https://api.foursquare.com/v2/venues/explore?client_id={}&client_secret={}&v={}&ll={}&radius={}&categoryId={}'.format(\n",
    "                CLIENT_ID, \n",
    "                CLIENT_SECRET, \n",
    "                VERSION,\n",
    "                ll,\n",
    "                radius,\n",
    "                categoryId)\n",
    "\n",
    "    # make the GET request\n",
    "    return requests.get(explore_url, proxies=proxies).json()['response']['totalResults']"
   ]
  },
  {
   "cell_type": "code",
   "execution_count": null,
   "metadata": {},
   "outputs": [],
   "source": [
    "#Create new dataframe to store venues data\n",
    "venues_df = bus_stops_df.copy()\n",
    "for c in categories_list:\n",
    "    venues_df[c[0]] = 0\n",
    "\n",
    "venues_df"
   ]
  },
  {
   "cell_type": "code",
   "execution_count": null,
   "metadata": {},
   "outputs": [],
   "source": [
    "#Request number of venues, store result as CSV\n",
    "for i, row in venues_df.iterrows():\n",
    "    print(i+70)\n",
    "    for c in categories_list:        \n",
    "        venues_df.loc[i+70, c[0]] = get_venues_count(venues_df.Coordinates.iloc[i+70], radius=500, categoryId=c[1])\n",
    "    venues_df.to_csv('70.csv')"
   ]
  },
  {
   "cell_type": "markdown",
   "metadata": {},
   "source": [
    "# Plotting to a box plot using atrtist layer"
   ]
  },
  {
   "cell_type": "code",
   "execution_count": 1,
   "metadata": {},
   "outputs": [
    {
     "data": {
      "text/html": [
       "<div>\n",
       "<style scoped>\n",
       "    .dataframe tbody tr th:only-of-type {\n",
       "        vertical-align: middle;\n",
       "    }\n",
       "\n",
       "    .dataframe tbody tr th {\n",
       "        vertical-align: top;\n",
       "    }\n",
       "\n",
       "    .dataframe thead th {\n",
       "        text-align: right;\n",
       "    }\n",
       "</style>\n",
       "<table border=\"1\" class=\"dataframe\">\n",
       "  <thead>\n",
       "    <tr style=\"text-align: right;\">\n",
       "      <th></th>\n",
       "      <th>Corridor</th>\n",
       "      <th>Name</th>\n",
       "      <th>Coordinates</th>\n",
       "      <th>Arts &amp; Entertainment</th>\n",
       "      <th>College &amp; University</th>\n",
       "      <th>Event</th>\n",
       "      <th>Food</th>\n",
       "      <th>Nightlife Spot</th>\n",
       "      <th>Outdoors &amp; Recreation</th>\n",
       "      <th>Professional &amp; Other Places</th>\n",
       "      <th>Residence</th>\n",
       "      <th>Shop &amp; Service</th>\n",
       "      <th>Travel &amp; Transport</th>\n",
       "    </tr>\n",
       "  </thead>\n",
       "  <tbody>\n",
       "    <tr>\n",
       "      <th>0</th>\n",
       "      <td>1</td>\n",
       "      <td>HALTE KEUDAH</td>\n",
       "      <td>5.559781, 95.317649</td>\n",
       "      <td>7</td>\n",
       "      <td>4</td>\n",
       "      <td>0</td>\n",
       "      <td>39</td>\n",
       "      <td>1</td>\n",
       "      <td>6</td>\n",
       "      <td>29</td>\n",
       "      <td>6</td>\n",
       "      <td>39</td>\n",
       "      <td>10</td>\n",
       "    </tr>\n",
       "    <tr>\n",
       "      <th>1</th>\n",
       "      <td>1</td>\n",
       "      <td>HALTE PORTABLE MASJID RAYA</td>\n",
       "      <td>5.553979, 95.318540</td>\n",
       "      <td>12</td>\n",
       "      <td>3</td>\n",
       "      <td>0</td>\n",
       "      <td>28</td>\n",
       "      <td>1</td>\n",
       "      <td>8</td>\n",
       "      <td>37</td>\n",
       "      <td>6</td>\n",
       "      <td>41</td>\n",
       "      <td>11</td>\n",
       "    </tr>\n",
       "    <tr>\n",
       "      <th>2</th>\n",
       "      <td>1</td>\n",
       "      <td>HALTE SP. LIMA</td>\n",
       "      <td>5.556597, 95.323211</td>\n",
       "      <td>5</td>\n",
       "      <td>4</td>\n",
       "      <td>0</td>\n",
       "      <td>30</td>\n",
       "      <td>4</td>\n",
       "      <td>6</td>\n",
       "      <td>41</td>\n",
       "      <td>5</td>\n",
       "      <td>52</td>\n",
       "      <td>9</td>\n",
       "    </tr>\n",
       "    <tr>\n",
       "      <th>3</th>\n",
       "      <td>1</td>\n",
       "      <td>HALTE KP. KEURAMAT</td>\n",
       "      <td>5.558210, 95.327378</td>\n",
       "      <td>10</td>\n",
       "      <td>4</td>\n",
       "      <td>0</td>\n",
       "      <td>20</td>\n",
       "      <td>3</td>\n",
       "      <td>1</td>\n",
       "      <td>34</td>\n",
       "      <td>6</td>\n",
       "      <td>27</td>\n",
       "      <td>4</td>\n",
       "    </tr>\n",
       "    <tr>\n",
       "      <th>4</th>\n",
       "      <td>1</td>\n",
       "      <td>HALTE PORTABLE SP. JAMBO TAPE</td>\n",
       "      <td>5.559729, 95.330911</td>\n",
       "      <td>9</td>\n",
       "      <td>6</td>\n",
       "      <td>0</td>\n",
       "      <td>30</td>\n",
       "      <td>6</td>\n",
       "      <td>15</td>\n",
       "      <td>25</td>\n",
       "      <td>2</td>\n",
       "      <td>17</td>\n",
       "      <td>3</td>\n",
       "    </tr>\n",
       "  </tbody>\n",
       "</table>\n",
       "</div>"
      ],
      "text/plain": [
       "   Corridor                           Name          Coordinates  \\\n",
       "0         1                   HALTE KEUDAH  5.559781, 95.317649   \n",
       "1         1     HALTE PORTABLE MASJID RAYA  5.553979, 95.318540   \n",
       "2         1                 HALTE SP. LIMA  5.556597, 95.323211   \n",
       "3         1             HALTE KP. KEURAMAT  5.558210, 95.327378   \n",
       "4         1  HALTE PORTABLE SP. JAMBO TAPE  5.559729, 95.330911   \n",
       "\n",
       "   Arts & Entertainment  College & University  Event  Food  Nightlife Spot  \\\n",
       "0                     7                     4      0    39               1   \n",
       "1                    12                     3      0    28               1   \n",
       "2                     5                     4      0    30               4   \n",
       "3                    10                     4      0    20               3   \n",
       "4                     9                     6      0    30               6   \n",
       "\n",
       "   Outdoors & Recreation  Professional & Other Places  Residence  \\\n",
       "0                      6                           29          6   \n",
       "1                      8                           37          6   \n",
       "2                      6                           41          5   \n",
       "3                      1                           34          6   \n",
       "4                     15                           25          2   \n",
       "\n",
       "   Shop & Service  Travel & Transport  \n",
       "0              39                  10  \n",
       "1              41                  11  \n",
       "2              52                   9  \n",
       "3              27                   4  \n",
       "4              17                   3  "
      ]
     },
     "execution_count": 1,
     "metadata": {},
     "output_type": "execute_result"
    }
   ],
   "source": [
    "# Read venues csv\n",
    "import pandas as pd\n",
    "venues_df = pd.read_csv('venues.csv', index_col=0)\n",
    "venues_df.head()"
   ]
  },
  {
   "cell_type": "code",
   "execution_count": 2,
   "metadata": {},
   "outputs": [],
   "source": [
    "import seaborn as sns\n",
    "import matplotlib.pyplot as plt"
   ]
  },
  {
   "cell_type": "code",
   "execution_count": null,
   "metadata": {},
   "outputs": [],
   "source": []
  }
 ],
 "metadata": {
  "kernelspec": {
   "display_name": "Python 3",
   "language": "python",
   "name": "python3"
  },
  "language_info": {
   "codemirror_mode": {
    "name": "ipython",
    "version": 3
   },
   "file_extension": ".py",
   "mimetype": "text/x-python",
   "name": "python",
   "nbconvert_exporter": "python",
   "pygments_lexer": "ipython3",
   "version": "3.7.4"
  }
 },
 "nbformat": 4,
 "nbformat_minor": 4
}
